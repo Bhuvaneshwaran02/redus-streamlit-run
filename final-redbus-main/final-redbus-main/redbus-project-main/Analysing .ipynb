{
 "cells": [
  {
   "cell_type": "code",
   "execution_count": 1,
   "metadata": {},
   "outputs": [],
   "source": [
    "import pandas as pd\n",
    "import mysql.connector "
   ]
  },
  {
   "cell_type": "code",
   "execution_count": 2,
   "metadata": {},
   "outputs": [],
   "source": [
    "dfbus1=pd.read_csv(\"APSRTC_Bus_Details.csv\")\n",
    "dfbus2=pd.read_csv(\"ASTC_Bus_Details.csv\")\n",
    "dfbus3=pd.read_csv(\"BSRTC_Bus_Details.csv\")\n",
    "dfbus4=pd.read_csv(\"HRTC_Bus_Details.csv\")\n",
    "dfbus5=pd.read_csv(\"JKRTC_Bus_Details.csv\")\n",
    "dfbus6=pd.read_csv(\"KSRTC_Bus_Details.csv\")\n",
    "dfbus7=pd.read_csv(\"PEPSU_Bus_Details.csv\")\n",
    "dfbus8=pd.read_csv(\"SBSTC_Bus_Details.csv\")\n",
    "dfbus9=pd.read_csv(\"TSRTC_Bus_Details.csv\")\n",
    "dfbus10=pd.read_csv(\"WBTC_Bus_Details.csv\")"
   ]
  },
  {
   "cell_type": "code",
   "execution_count": 3,
   "metadata": {},
   "outputs": [
    {
     "data": {
      "text/html": [
       "<div>\n",
       "<style scoped>\n",
       "    .dataframe tbody tr th:only-of-type {\n",
       "        vertical-align: middle;\n",
       "    }\n",
       "\n",
       "    .dataframe tbody tr th {\n",
       "        vertical-align: top;\n",
       "    }\n",
       "\n",
       "    .dataframe thead th {\n",
       "        text-align: right;\n",
       "    }\n",
       "</style>\n",
       "<table border=\"1\" class=\"dataframe\">\n",
       "  <thead>\n",
       "    <tr style=\"text-align: right;\">\n",
       "      <th></th>\n",
       "      <th>Bus Name</th>\n",
       "      <th>Bus Type</th>\n",
       "      <th>From</th>\n",
       "      <th>To</th>\n",
       "      <th>Price</th>\n",
       "      <th>Starting Point</th>\n",
       "      <th>Ending Point</th>\n",
       "      <th>Seat Available</th>\n",
       "      <th>Start Time</th>\n",
       "      <th>Reach Time</th>\n",
       "      <th>Total Travel Time</th>\n",
       "      <th>Bus Rating</th>\n",
       "      <th>Links</th>\n",
       "    </tr>\n",
       "  </thead>\n",
       "  <tbody>\n",
       "    <tr>\n",
       "      <th>0</th>\n",
       "      <td>APSRTC - 35085</td>\n",
       "      <td>DOLPHIN CRUISE (VOLVO / SCANIA A.C Multi Axle)</td>\n",
       "      <td>Vijayawada</td>\n",
       "      <td>Hyderabad</td>\n",
       "      <td>720.0</td>\n",
       "      <td>Rtc bus stand</td>\n",
       "      <td>Kukatpally</td>\n",
       "      <td>40 Seats available</td>\n",
       "      <td>18:30</td>\n",
       "      <td>00:30</td>\n",
       "      <td>06h 00m</td>\n",
       "      <td>3.8</td>\n",
       "      <td>https://www.redbus.in/bus-tickets/vijayawada-t...</td>\n",
       "    </tr>\n",
       "    <tr>\n",
       "      <th>1</th>\n",
       "      <td>APSRTC - 3613</td>\n",
       "      <td>SUPER LUXURY (NON-AC, 2 + 2 PUSH BACK)</td>\n",
       "      <td>Vijayawada</td>\n",
       "      <td>Hyderabad</td>\n",
       "      <td>469.0</td>\n",
       "      <td>Auto Nagar</td>\n",
       "      <td>Kukatpally</td>\n",
       "      <td>30 Seats available</td>\n",
       "      <td>19:00</td>\n",
       "      <td>02:42</td>\n",
       "      <td>07h 42m</td>\n",
       "      <td>3.3</td>\n",
       "      <td>https://www.redbus.in/bus-tickets/vijayawada-t...</td>\n",
       "    </tr>\n",
       "    <tr>\n",
       "      <th>2</th>\n",
       "      <td>APSRTC - 9316</td>\n",
       "      <td>SUPER LUXURY (NON-AC, 2 + 2 PUSH BACK)</td>\n",
       "      <td>Vijayawada</td>\n",
       "      <td>Hyderabad</td>\n",
       "      <td>469.0</td>\n",
       "      <td>Auto Nagar</td>\n",
       "      <td>Kukatpally</td>\n",
       "      <td>25 Seats available</td>\n",
       "      <td>20:20</td>\n",
       "      <td>04:10</td>\n",
       "      <td>07h 50m</td>\n",
       "      <td>4.2</td>\n",
       "      <td>https://www.redbus.in/bus-tickets/vijayawada-t...</td>\n",
       "    </tr>\n",
       "    <tr>\n",
       "      <th>3</th>\n",
       "      <td>APSRTC - 35189</td>\n",
       "      <td>DOLPHIN CRUISE (VOLVO / SCANIA A.C Multi Axle)</td>\n",
       "      <td>Vijayawada</td>\n",
       "      <td>Hyderabad</td>\n",
       "      <td>670.0</td>\n",
       "      <td>Rtc bus stand</td>\n",
       "      <td>Hayathnagar</td>\n",
       "      <td>35 Seats available</td>\n",
       "      <td>20:30</td>\n",
       "      <td>01:05</td>\n",
       "      <td>04h 35m</td>\n",
       "      <td>3.9</td>\n",
       "      <td>https://www.redbus.in/bus-tickets/vijayawada-t...</td>\n",
       "    </tr>\n",
       "    <tr>\n",
       "      <th>4</th>\n",
       "      <td>APSRTC - 9651</td>\n",
       "      <td>SUPER LUXURY (NON-AC, 2 + 2 PUSH BACK)</td>\n",
       "      <td>Vijayawada</td>\n",
       "      <td>Hyderabad</td>\n",
       "      <td>469.0</td>\n",
       "      <td>Auto Nagar</td>\n",
       "      <td>Kukatpally</td>\n",
       "      <td>24 Seats available</td>\n",
       "      <td>21:00</td>\n",
       "      <td>04:41</td>\n",
       "      <td>07h 41m</td>\n",
       "      <td>4.6</td>\n",
       "      <td>https://www.redbus.in/bus-tickets/vijayawada-t...</td>\n",
       "    </tr>\n",
       "    <tr>\n",
       "      <th>...</th>\n",
       "      <td>...</td>\n",
       "      <td>...</td>\n",
       "      <td>...</td>\n",
       "      <td>...</td>\n",
       "      <td>...</td>\n",
       "      <td>...</td>\n",
       "      <td>...</td>\n",
       "      <td>...</td>\n",
       "      <td>...</td>\n",
       "      <td>...</td>\n",
       "      <td>...</td>\n",
       "      <td>...</td>\n",
       "      <td>...</td>\n",
       "    </tr>\n",
       "    <tr>\n",
       "      <th>56</th>\n",
       "      <td>NaN</td>\n",
       "      <td>NaN</td>\n",
       "      <td>Kolkata</td>\n",
       "      <td>Siliguri</td>\n",
       "      <td>NaN</td>\n",
       "      <td>NaN</td>\n",
       "      <td>NaN</td>\n",
       "      <td>NaN</td>\n",
       "      <td>NaN</td>\n",
       "      <td>NaN</td>\n",
       "      <td>NaN</td>\n",
       "      <td>NaN</td>\n",
       "      <td>https://www.redbus.in/bus-tickets/kolkata-to-s...</td>\n",
       "    </tr>\n",
       "    <tr>\n",
       "      <th>57</th>\n",
       "      <td>NaN</td>\n",
       "      <td>NaN</td>\n",
       "      <td>Kolkata</td>\n",
       "      <td>Siliguri</td>\n",
       "      <td>NaN</td>\n",
       "      <td>NaN</td>\n",
       "      <td>NaN</td>\n",
       "      <td>NaN</td>\n",
       "      <td>NaN</td>\n",
       "      <td>NaN</td>\n",
       "      <td>NaN</td>\n",
       "      <td>NaN</td>\n",
       "      <td>https://www.redbus.in/bus-tickets/kolkata-to-s...</td>\n",
       "    </tr>\n",
       "    <tr>\n",
       "      <th>58</th>\n",
       "      <td>Shyamoli Paribahan Pvt Ltd</td>\n",
       "      <td>Volvo A/C Seater (2+2)</td>\n",
       "      <td>Kolkata</td>\n",
       "      <td>Asansol (West Be...</td>\n",
       "      <td>524.0</td>\n",
       "      <td>Dankoni</td>\n",
       "      <td>Chelidanga</td>\n",
       "      <td>37 Seats available</td>\n",
       "      <td>19:40</td>\n",
       "      <td>23:25</td>\n",
       "      <td>04h 05m</td>\n",
       "      <td>4.2</td>\n",
       "      <td>https://www.redbus.in/bus-tickets/kolkata-to-a...</td>\n",
       "    </tr>\n",
       "    <tr>\n",
       "      <th>59</th>\n",
       "      <td>Royal Cruiser</td>\n",
       "      <td>Volvo A/C Seater (2+2)</td>\n",
       "      <td>Kolkata</td>\n",
       "      <td>Asansol (West Be...</td>\n",
       "      <td>523.0</td>\n",
       "      <td>Santragachi</td>\n",
       "      <td>Chelidanga</td>\n",
       "      <td>17 Seats available</td>\n",
       "      <td>19:45</td>\n",
       "      <td>00:15</td>\n",
       "      <td>04h 30m</td>\n",
       "      <td>3.7</td>\n",
       "      <td>https://www.redbus.in/bus-tickets/kolkata-to-a...</td>\n",
       "    </tr>\n",
       "    <tr>\n",
       "      <th>60</th>\n",
       "      <td>Beauty Travels</td>\n",
       "      <td>NON A/C Seater / Sleeper (2+2)</td>\n",
       "      <td>Kolkata</td>\n",
       "      <td>Asansol (West Be...</td>\n",
       "      <td>380.0</td>\n",
       "      <td>Babughat</td>\n",
       "      <td>Asansol</td>\n",
       "      <td>36 Seats available</td>\n",
       "      <td>20:20</td>\n",
       "      <td>00:30</td>\n",
       "      <td>04h 10m</td>\n",
       "      <td>3.0</td>\n",
       "      <td>https://www.redbus.in/bus-tickets/kolkata-to-a...</td>\n",
       "    </tr>\n",
       "  </tbody>\n",
       "</table>\n",
       "<p>5032 rows × 13 columns</p>\n",
       "</div>"
      ],
      "text/plain": [
       "                      Bus Name  \\\n",
       "0               APSRTC - 35085   \n",
       "1                APSRTC - 3613   \n",
       "2                APSRTC - 9316   \n",
       "3               APSRTC - 35189   \n",
       "4                APSRTC - 9651   \n",
       "..                         ...   \n",
       "56                         NaN   \n",
       "57                         NaN   \n",
       "58  Shyamoli Paribahan Pvt Ltd   \n",
       "59               Royal Cruiser   \n",
       "60              Beauty Travels   \n",
       "\n",
       "                                          Bus Type        From  \\\n",
       "0   DOLPHIN CRUISE (VOLVO / SCANIA A.C Multi Axle)  Vijayawada   \n",
       "1           SUPER LUXURY (NON-AC, 2 + 2 PUSH BACK)  Vijayawada   \n",
       "2           SUPER LUXURY (NON-AC, 2 + 2 PUSH BACK)  Vijayawada   \n",
       "3   DOLPHIN CRUISE (VOLVO / SCANIA A.C Multi Axle)  Vijayawada   \n",
       "4           SUPER LUXURY (NON-AC, 2 + 2 PUSH BACK)  Vijayawada   \n",
       "..                                             ...         ...   \n",
       "56                                             NaN     Kolkata   \n",
       "57                                             NaN     Kolkata   \n",
       "58                          Volvo A/C Seater (2+2)     Kolkata   \n",
       "59                          Volvo A/C Seater (2+2)     Kolkata   \n",
       "60                  NON A/C Seater / Sleeper (2+2)     Kolkata   \n",
       "\n",
       "                     To  Price Starting Point Ending Point  \\\n",
       "0             Hyderabad  720.0  Rtc bus stand   Kukatpally   \n",
       "1             Hyderabad  469.0     Auto Nagar   Kukatpally   \n",
       "2             Hyderabad  469.0     Auto Nagar   Kukatpally   \n",
       "3             Hyderabad  670.0  Rtc bus stand  Hayathnagar   \n",
       "4             Hyderabad  469.0     Auto Nagar   Kukatpally   \n",
       "..                  ...    ...            ...          ...   \n",
       "56             Siliguri    NaN            NaN          NaN   \n",
       "57             Siliguri    NaN            NaN          NaN   \n",
       "58  Asansol (West Be...  524.0        Dankoni   Chelidanga   \n",
       "59  Asansol (West Be...  523.0    Santragachi   Chelidanga   \n",
       "60  Asansol (West Be...  380.0       Babughat      Asansol   \n",
       "\n",
       "        Seat Available Start Time Reach Time Total Travel Time Bus Rating  \\\n",
       "0   40 Seats available      18:30      00:30           06h 00m        3.8   \n",
       "1   30 Seats available      19:00      02:42           07h 42m        3.3   \n",
       "2   25 Seats available      20:20      04:10           07h 50m        4.2   \n",
       "3   35 Seats available      20:30      01:05           04h 35m        3.9   \n",
       "4   24 Seats available      21:00      04:41           07h 41m        4.6   \n",
       "..                 ...        ...        ...               ...        ...   \n",
       "56                 NaN        NaN        NaN               NaN        NaN   \n",
       "57                 NaN        NaN        NaN               NaN        NaN   \n",
       "58  37 Seats available      19:40      23:25           04h 05m        4.2   \n",
       "59  17 Seats available      19:45      00:15           04h 30m        3.7   \n",
       "60  36 Seats available      20:20      00:30           04h 10m        3.0   \n",
       "\n",
       "                                                Links  \n",
       "0   https://www.redbus.in/bus-tickets/vijayawada-t...  \n",
       "1   https://www.redbus.in/bus-tickets/vijayawada-t...  \n",
       "2   https://www.redbus.in/bus-tickets/vijayawada-t...  \n",
       "3   https://www.redbus.in/bus-tickets/vijayawada-t...  \n",
       "4   https://www.redbus.in/bus-tickets/vijayawada-t...  \n",
       "..                                                ...  \n",
       "56  https://www.redbus.in/bus-tickets/kolkata-to-s...  \n",
       "57  https://www.redbus.in/bus-tickets/kolkata-to-s...  \n",
       "58  https://www.redbus.in/bus-tickets/kolkata-to-a...  \n",
       "59  https://www.redbus.in/bus-tickets/kolkata-to-a...  \n",
       "60  https://www.redbus.in/bus-tickets/kolkata-to-a...  \n",
       "\n",
       "[5032 rows x 13 columns]"
      ]
     },
     "execution_count": 3,
     "metadata": {},
     "output_type": "execute_result"
    }
   ],
   "source": [
    "dfbus=pd.concat([dfbus1,dfbus2,dfbus3,dfbus4,dfbus5,dfbus6,dfbus7,dfbus8,dfbus9,dfbus10])\n",
    "dfbus"
   ]
  },
  {
   "cell_type": "code",
   "execution_count": 4,
   "metadata": {},
   "outputs": [],
   "source": [
    "df = dfbus.rename(columns={'Bus Name': 'Bus_Name',\n",
    "                           'Bus Type': 'Bus_Type',\n",
    "                           'From': 'Start_From',\n",
    "                           'To': 'Destination',\n",
    "                           'Price': 'Price',\n",
    "                           'Starting Point': 'Starting_Point',\n",
    "                           'Ending Point': 'Ending_Point',\n",
    "                           'Seat Available': 'Seat_Available',\n",
    "                           'Start Time': 'Start_Time',\n",
    "                           'Reach Time': 'Reach_Time',\n",
    "                           'Total Travel Time': 'Total_Travel_Time',\n",
    "                           'Bus Rating': 'Bus_Rating',\n",
    "                           'Links': 'Links',},)"
   ]
  },
  {
   "cell_type": "code",
   "execution_count": 5,
   "metadata": {},
   "outputs": [],
   "source": [
    "df.to_csv(\"All_Bus_Details.csv\", index=False)"
   ]
  },
  {
   "cell_type": "code",
   "execution_count": 6,
   "metadata": {},
   "outputs": [
    {
     "data": {
      "text/plain": [
       "Bus_Name             45\n",
       "Bus_Type             55\n",
       "Start_From            0\n",
       "Destination           0\n",
       "Price                46\n",
       "Starting_Point       58\n",
       "Ending_Point         58\n",
       "Seat_Available       52\n",
       "Start_Time           45\n",
       "Reach_Time           45\n",
       "Total_Travel_Time    45\n",
       "Bus_Rating           44\n",
       "Links                 0\n",
       "dtype: int64"
      ]
     },
     "execution_count": 6,
     "metadata": {},
     "output_type": "execute_result"
    }
   ],
   "source": [
    "df.isna().sum()"
   ]
  },
  {
   "cell_type": "code",
   "execution_count": 7,
   "metadata": {},
   "outputs": [],
   "source": [
    "# Drop rows with any empty cells\n",
    "df.dropna(how='any', inplace=True)"
   ]
  },
  {
   "cell_type": "code",
   "execution_count": 8,
   "metadata": {},
   "outputs": [
    {
     "data": {
      "text/plain": [
       "Bus_Name             0\n",
       "Bus_Type             0\n",
       "Start_From           0\n",
       "Destination          0\n",
       "Price                0\n",
       "Starting_Point       0\n",
       "Ending_Point         0\n",
       "Seat_Available       0\n",
       "Start_Time           0\n",
       "Reach_Time           0\n",
       "Total_Travel_Time    0\n",
       "Bus_Rating           0\n",
       "Links                0\n",
       "dtype: int64"
      ]
     },
     "execution_count": 8,
     "metadata": {},
     "output_type": "execute_result"
    }
   ],
   "source": [
    "df.isna().sum()"
   ]
  },
  {
   "cell_type": "code",
   "execution_count": 9,
   "metadata": {},
   "outputs": [
    {
     "name": "stdout",
     "output_type": "stream",
     "text": [
      "0\n"
     ]
    }
   ],
   "source": [
    "print(df['Bus_Name'].isnull().sum())"
   ]
  },
  {
   "cell_type": "code",
   "execution_count": 10,
   "metadata": {},
   "outputs": [
    {
     "data": {
      "text/plain": [
       "(4974, 13)"
      ]
     },
     "execution_count": 10,
     "metadata": {},
     "output_type": "execute_result"
    }
   ],
   "source": [
    "df.shape"
   ]
  },
  {
   "cell_type": "code",
   "execution_count": 11,
   "metadata": {},
   "outputs": [
    {
     "data": {
      "text/plain": [
       "<bound method Series.unique of 0     https://www.redbus.in/bus-tickets/vijayawada-t...\n",
       "1     https://www.redbus.in/bus-tickets/vijayawada-t...\n",
       "2     https://www.redbus.in/bus-tickets/vijayawada-t...\n",
       "3     https://www.redbus.in/bus-tickets/vijayawada-t...\n",
       "4     https://www.redbus.in/bus-tickets/vijayawada-t...\n",
       "                            ...                        \n",
       "54    https://www.redbus.in/bus-tickets/kolkata-to-s...\n",
       "55    https://www.redbus.in/bus-tickets/kolkata-to-s...\n",
       "58    https://www.redbus.in/bus-tickets/kolkata-to-a...\n",
       "59    https://www.redbus.in/bus-tickets/kolkata-to-a...\n",
       "60    https://www.redbus.in/bus-tickets/kolkata-to-a...\n",
       "Name: Links, Length: 4974, dtype: object>"
      ]
     },
     "execution_count": 11,
     "metadata": {},
     "output_type": "execute_result"
    }
   ],
   "source": [
    "df['Links'].unique"
   ]
  },
  {
   "cell_type": "code",
   "execution_count": 12,
   "metadata": {},
   "outputs": [
    {
     "name": "stdout",
     "output_type": "stream",
     "text": [
      "<class 'pandas.core.frame.DataFrame'>\n",
      "Index: 4974 entries, 0 to 60\n",
      "Data columns (total 13 columns):\n",
      " #   Column             Non-Null Count  Dtype  \n",
      "---  ------             --------------  -----  \n",
      " 0   Bus_Name           4974 non-null   object \n",
      " 1   Bus_Type           4974 non-null   object \n",
      " 2   Start_From         4974 non-null   object \n",
      " 3   Destination        4974 non-null   object \n",
      " 4   Price              4974 non-null   float64\n",
      " 5   Starting_Point     4974 non-null   object \n",
      " 6   Ending_Point       4974 non-null   object \n",
      " 7   Seat_Available     4974 non-null   object \n",
      " 8   Start_Time         4974 non-null   object \n",
      " 9   Reach_Time         4974 non-null   object \n",
      " 10  Total_Travel_Time  4974 non-null   object \n",
      " 11  Bus_Rating         4974 non-null   object \n",
      " 12  Links              4974 non-null   object \n",
      "dtypes: float64(1), object(12)\n",
      "memory usage: 544.0+ KB\n"
     ]
    }
   ],
   "source": [
    "df.info()"
   ]
  },
  {
   "cell_type": "code",
   "execution_count": 13,
   "metadata": {},
   "outputs": [],
   "source": [
    "df['Start_Time']=pd.to_datetime(df['Start_Time'],format=\"%H:%M\").dt.strftime(\"%H:%M\")"
   ]
  },
  {
   "cell_type": "code",
   "execution_count": 14,
   "metadata": {},
   "outputs": [],
   "source": [
    "df['Reach_Time']=pd.to_datetime(df['Reach_Time'],format=\"%H:%M\").dt.strftime('%H:%M')"
   ]
  },
  {
   "cell_type": "code",
   "execution_count": 15,
   "metadata": {},
   "outputs": [
    {
     "name": "stdout",
     "output_type": "stream",
     "text": [
      "<class 'pandas.core.series.Series'>\n"
     ]
    }
   ],
   "source": [
    "print(type(df['Start_Time'][0]))"
   ]
  },
  {
   "cell_type": "code",
   "execution_count": 16,
   "metadata": {},
   "outputs": [
    {
     "name": "stdout",
     "output_type": "stream",
     "text": [
      "<class 'pandas.core.series.Series'>\n"
     ]
    }
   ],
   "source": [
    "print(type(df['Reach_Time'][0]))"
   ]
  },
  {
   "cell_type": "code",
   "execution_count": 17,
   "metadata": {},
   "outputs": [
    {
     "data": {
      "text/plain": [
       "0     18:30\n",
       "1     19:00\n",
       "2     20:20\n",
       "3     20:30\n",
       "4     21:00\n",
       "      ...  \n",
       "54    19:50\n",
       "55    21:30\n",
       "58    19:40\n",
       "59    19:45\n",
       "60    20:20\n",
       "Name: Start_Time, Length: 4974, dtype: object"
      ]
     },
     "execution_count": 17,
     "metadata": {},
     "output_type": "execute_result"
    }
   ],
   "source": [
    "df['Start_Time']"
   ]
  },
  {
   "cell_type": "code",
   "execution_count": 18,
   "metadata": {},
   "outputs": [
    {
     "name": "stdout",
     "output_type": "stream",
     "text": [
      "<class 'pandas.core.frame.DataFrame'>\n",
      "Index: 4974 entries, 0 to 60\n",
      "Data columns (total 13 columns):\n",
      " #   Column             Non-Null Count  Dtype  \n",
      "---  ------             --------------  -----  \n",
      " 0   Bus_Name           4974 non-null   object \n",
      " 1   Bus_Type           4974 non-null   object \n",
      " 2   Start_From         4974 non-null   object \n",
      " 3   Destination        4974 non-null   object \n",
      " 4   Price              4974 non-null   float64\n",
      " 5   Starting_Point     4974 non-null   object \n",
      " 6   Ending_Point       4974 non-null   object \n",
      " 7   Seat_Available     4974 non-null   object \n",
      " 8   Start_Time         4974 non-null   object \n",
      " 9   Reach_Time         4974 non-null   object \n",
      " 10  Total_Travel_Time  4974 non-null   object \n",
      " 11  Bus_Rating         4974 non-null   object \n",
      " 12  Links              4974 non-null   object \n",
      "dtypes: float64(1), object(12)\n",
      "memory usage: 673.1+ KB\n"
     ]
    }
   ],
   "source": [
    "df.info()"
   ]
  },
  {
   "cell_type": "code",
   "execution_count": 19,
   "metadata": {},
   "outputs": [],
   "source": [
    "df['Bus_Rating'] = pd.to_numeric(df['Bus_Rating'], errors='coerce')"
   ]
  },
  {
   "cell_type": "code",
   "execution_count": 20,
   "metadata": {},
   "outputs": [
    {
     "data": {
      "text/plain": [
       "0     3.8\n",
       "1     3.3\n",
       "2     4.2\n",
       "3     3.9\n",
       "4     4.6\n",
       "     ... \n",
       "54    4.6\n",
       "55    4.5\n",
       "58    4.2\n",
       "59    3.7\n",
       "60    3.0\n",
       "Name: Bus_Rating, Length: 4974, dtype: float64"
      ]
     },
     "execution_count": 20,
     "metadata": {},
     "output_type": "execute_result"
    }
   ],
   "source": [
    "df['Bus_Rating']"
   ]
  },
  {
   "cell_type": "code",
   "execution_count": 21,
   "metadata": {},
   "outputs": [
    {
     "data": {
      "text/plain": [
       "dtype('O')"
      ]
     },
     "execution_count": 21,
     "metadata": {},
     "output_type": "execute_result"
    }
   ],
   "source": [
    "df['Seat_Available'].dtype"
   ]
  },
  {
   "cell_type": "code",
   "execution_count": 22,
   "metadata": {},
   "outputs": [
    {
     "data": {
      "text/plain": [
       "array([ 720.  ,  469.  ,  670.  ,  781.  ,  567.  ,  607.  ,  446.  ,\n",
       "        839.  ,  639.  ,  436.  ,  396.  ,  480.  ,  440.  ,  533.  ,\n",
       "        352.  ,  354.  ,  442.  ,  450.  ,  350.  ,  783.  ,  337.  ,\n",
       "        340.  ,  595.  ,  790.  ,  610.  ,  550.  ,  500.  ,  333.  ,\n",
       "        630.  ,  762.  ,  522.  ,  666.  ,  510.  ,  549.  ,  600.  ,\n",
       "        560.  ,  690.  ,  570.  ,  637.  ,  599.  ,  800.  ,  528.  ,\n",
       "        590.  ,  412.  ,  565.  ,  488.  ,  420.  ,  581.  ,  444.  ,\n",
       "        517.  ,  633.  ,  655.  ,  737.  ,  635.  ,  414.  ,  795.  ,\n",
       "        376.  ,  377.  , 1354.  ,  383.  ,  392.  ,  378.  ,  380.  ,\n",
       "        530.  ,  328.  ,  664.  ,  369.  ,  400.  ,  449.  ,  638.  ,\n",
       "        478.  ,  658.  ,  696.  ,  324.  ,  575.  ,  801.  ,  580.  ,\n",
       "        741.  ,  880.  ,  490.  ,  629.  ,  910.  ,  858.  ,  895.  ,\n",
       "        900.  ,  269.  ,  281.  ,  250.  ,  302.  ,  247.  ,  266.  ,\n",
       "        499.  ,  186.  ,  304.  ,  314.  ,  399.  ,  699.  ,  439.  ,\n",
       "        526.  ,  656.  ,  349.  ,  850.  ,  650.  ,  899.  ,  940.  ,\n",
       "        849.  ,  700.  , 1090.  ,  300.  , 1100.  , 1000.  , 5000.  ,\n",
       "        307.  ,  750.  , 2049.  , 2499.  , 2000.  ,  736.  ,  294.  ,\n",
       "        280.  ,  398.  ,  284.  ,  425.  ,  506.  ,  362.  ,  475.  ,\n",
       "        799.  ,  660.  ,  820.  ,  523.  ,  627.  ,  438.  ,  775.  ,\n",
       "        540.  ,  589.  , 4750.  , 1500.  , 1950.  , 2500.  , 1299.  ,\n",
       "       1140.  ,  564.  ,  605.  ,  574.  ,  882.  ,  572.  ,  692.  ,\n",
       "        784.  ,  694.  , 1082.  ,  579.  ,  405.  ,  583.  ,  538.  ,\n",
       "        870.  ,  935.  ,  481.  ,  555.  , 1990.  ,  615.  ,  743.  ,\n",
       "        495.  , 1350.  , 1156.  , 1130.  ,  810.  ,  624.  ,  602.  ,\n",
       "        719.  ,  556.  ,  671.  ,  852.  ,  855.  ,  992.  ,  684.  ,\n",
       "       1050.  ,  453.  ,  990.  ,  830.  ,  665.  ,  749.  ,  726.  ,\n",
       "        765.  ,  752.  ,  360.  ,  648.  ,  417.  ,  617.  ,  562.  ,\n",
       "        342.  ,  312.  ,  344.  ,  427.  ,  463.  ,  474.  ,  777.  ,\n",
       "       3999.  , 1650.  ,  470.  ,  502.  ,  606.  ,  649.  ,  501.  ,\n",
       "        740.  ,  949.  ,  732.  , 1199.  , 3500.  ,  704.  ,  999.  ,\n",
       "       1150.  , 1390.  ,  592.  ,  558.  ,  518.  ,  829.  , 1112.  ,\n",
       "       1254.  , 1200.  ,  890.  ,  646.  ,  451.  ,  483.  ,  585.  ,\n",
       "        626.  ,  404.  ,  667.  , 3000.  , 1490.  , 3800.  ,  929.  ,\n",
       "        382.  ,  524.  ,  498.  ,  375.  ,  675.  ,  260.  ,  252.  ,\n",
       "        263.  ,  401.  ,  248.  ,  261.  ,  316.  ,  318.  ,  359.  ,\n",
       "        258.  ,  680.  ,  237.  ,  618.  ,  738.  , 1275.  , 1300.  ,\n",
       "       1249.  , 1049.  , 1113.  ,  941.  , 1863.  , 1169.  ,  809.  ,\n",
       "        329.  ,  265.  ,  416.  , 4400.  , 1900.  ,  909.  , 1680.  ,\n",
       "       1280.  , 1250.  , 1700.  , 1799.  , 1044.  , 2475.  ,  277.  ,\n",
       "        217.  ,  220.  ,  170.  ,  246.  ,  200.  ,  215.  ,  245.  ,\n",
       "        508.  ,  428.  ,  443.  ,  332.  ,  189.  , 1099.  , 1190.  ,\n",
       "        693.  ,  972.  ,  975.  , 1080.  ,  345.  ,  455.  , 2375.  ,\n",
       "        370.  , 1710.  ,  346.  ,  846.  ,  520.  ,  779.  ,  730.  ,\n",
       "        210.  ,  353.  ,  330.  ,  422.  ,  467.  ,  435.  ,  950.  ,\n",
       "       1780.  ,  464.  ,  433.  ,  484.  ,  509.  ,  808.  ,  513.  ,\n",
       "        854.  ,  903.  , 2849.  , 1139.  , 1599.  ,  759.  ,  679.  ,\n",
       "        386.  ,  355.  ,  661.  , 1016.  ,  823.  ,  616.  , 1290.  ,\n",
       "       1011.  ,  770.  ,  473.  ,  710.  , 1399.  ,  889.  ,  853.  ,\n",
       "       1160.  , 1110.  ,  553.  ,  516.  ,  460.  ,  532.  ,  668.  ,\n",
       "        631.  ,  623.  ,  698.  ,  569.  ,  874.  ,  688.  , 1018.  ,\n",
       "        776.  ,  876.  ,  729.  ,  819.  ,  430.  ,  188.  ,  205.  ,\n",
       "        301.  ,  268.  ,  209.  ,  149.  ,  253.  ,  222.  ,  204.  ,\n",
       "        338.  ,  718.  ,  728.  , 1303.  ,  731.  , 1119.  , 1123.  ,\n",
       "        780.  ,  919.  ,  711.  , 1022.  ,  943.  ,  756.  ,  554.  ,\n",
       "        373.  ,  568.  ,  371.  ,  609.  ,  157.  ,  613.  , 1131.  ,\n",
       "        968.  ,  548.  ,  805.  , 1020.  ,  960.  ,  712.  ,  462.  ,\n",
       "        957.  , 9499.  ,  487.  ,  486.  ,  479.  , 1999.  ,  767.  ,\n",
       "        545.  ,  584.  ,  390.  ,  367.  ,  745.  ,  625.  ,  672.  ,\n",
       "        768.  ,  723.  ,  928.  ,  914.  ,  970.  ,  920.  , 1499.  ,\n",
       "        162.  ,  238.  ,  706.  ,  980.  ,  812.  ,  879.  ,  787.  ,\n",
       "        634.  ,  611.  ,  792.  ,  677.  ,  669.  ,  857.  ,  620.  ,\n",
       "        230.  ,  468.  ,  601.  ,  537.  ,  525.  , 1040.  ,  685.  ,\n",
       "       1170.  ,  193.  ,  213.  , 1025.  , 1105.  , 1899.  , 1015.  ,\n",
       "        541.  ,  845.  ,  622.  ,  507.  ,  892.  ,  867.  ,  529.  ,\n",
       "       1149.  , 1103.  ,  938.  ,  535.  ,  619.  ,  563.  , 2199.  ,\n",
       "        511.  ,  764.  ,  674.  , 1709.  ,  546.  ,  942.  ,  539.  ,\n",
       "       1649.  , 1064.  , 1446.  ,  822.  , 1428.  ,  657.  ,  701.  ,\n",
       "       1079.  , 1439.  , 1699.  ,  295.  ,  309.  ,  364.77,  604.  ,\n",
       "        608.  , 1118.  , 1008.  , 1093.  ,  640.  ,  825.  ,  816.  ,\n",
       "       1434.  , 1903.81,  786.  ,  791.  , 1529.  ,  834.  ,  755.  ,\n",
       "        746.  , 1259.  , 1295.  ,  612.  ,  578.  ,  429.  ,  434.  ,\n",
       "        724.  ,  461.  ,  751.  , 1437.  , 1424.  , 1159.  ,  519.  ,\n",
       "        721.  ,  678.  ,  716.  ,  758.  ,  715.  , 1342.  ,  865.  ,\n",
       "        866.  ,  733.  ,  713.  ,  456.  ,  531.  ,  722.  ,  458.  ,\n",
       "        477.  ,  395.  ,  365.  ,  391.  ,  403.  ,  415.  ,  683.  ,\n",
       "        224.  ,  493.  ,  793.  ,  457.  ,  717.  ,  561.  ,  847.  ,\n",
       "        322.  ,  709.  ,  702.  , 1191.  ,  760.  , 1158.  ,  552.  ,\n",
       "        476.  ,  796.  ,  497.  ,  489.  ,  242.  ,  262.  ,  240.  ,\n",
       "        307.62,  385.  ,  782.  ,  485.  ,  912.  ,  856.  , 1824.  ,\n",
       "        979.  , 1339.  , 1388.  ,  471.  ,  833.  ,  104.  ,  123.  ,\n",
       "        299.  ,  924.  ,  278.  ,  249.  , 2699.  ,  288.  ,  255.  ,\n",
       "        695.  ,  739.  ,  231.  ,  452.  ,  419.  ,  319.  ,  586.  ,\n",
       "        742.  ,  515.  ,  904.  ,  426.  ,  181.  ,  216.  ,  201.  ,\n",
       "        227.  ,  174.  ,  381.  ,  341.  ,  111.  ,  145.  ,  103.  ,\n",
       "        134.  ,  108.  , 1212.  ,  129.  ,  155.  ,  512.  ,  321.  ,\n",
       "        431.  , 1007.  , 3300.  ,  969.  , 3850.  , 1216.  ,  883.  ,\n",
       "        465.  ,  180.  ,   95.  ,  100.  ,  320.  ,  285.  ,  394.  ,\n",
       "        347.  ,   78.  ,  126.  ,  233.  ,   85.  ,   68.  ,   80.  ,\n",
       "       1349.  ,  107.  ,   96.  ,  267.  ,  144.  ,  199.  ,   70.  ,\n",
       "        389.  ,  410.  , 4000.  ,  689.  ,  559.  ,  283.  ,  343.  ,\n",
       "        772.  ,  358.  ,  577.  ,  761.  ,  705.  ,  504.  , 3996.  ,\n",
       "        447.  ,  409.  ,  665.71,  351.  , 1045.  , 2600.  , 2850.  ,\n",
       "        289.  ,  735.  , 1480.  , 2222.  , 1074.  ,  818.  ,  725.  ,\n",
       "        926.  ,  466.  ,  859.  ,  873.  , 1271.  , 1035.  ,  824.  ,\n",
       "        989.  ,  977.  ,  994.  ,  766.  ,  860.  ,  840.  , 1400.  ,\n",
       "       1092.  ,  902.  , 4999.  , 3099.  ])"
      ]
     },
     "execution_count": 22,
     "metadata": {},
     "output_type": "execute_result"
    }
   ],
   "source": [
    "df['Price'].unique()"
   ]
  },
  {
   "cell_type": "code",
   "execution_count": 23,
   "metadata": {},
   "outputs": [],
   "source": [
    "df['Price']=df['Price'].astype(float).round(2)"
   ]
  },
  {
   "cell_type": "code",
   "execution_count": 24,
   "metadata": {},
   "outputs": [
    {
     "data": {
      "text/plain": [
       "0      720.0\n",
       "1      469.0\n",
       "2      469.0\n",
       "3      670.0\n",
       "4      469.0\n",
       "       ...  \n",
       "54    1500.0\n",
       "55    1200.0\n",
       "58     524.0\n",
       "59     523.0\n",
       "60     380.0\n",
       "Name: Price, Length: 4974, dtype: float64"
      ]
     },
     "execution_count": 24,
     "metadata": {},
     "output_type": "execute_result"
    }
   ],
   "source": [
    "df['Price']"
   ]
  },
  {
   "cell_type": "code",
   "execution_count": 25,
   "metadata": {},
   "outputs": [
    {
     "name": "stdout",
     "output_type": "stream",
     "text": [
      "<class 'pandas.core.frame.DataFrame'>\n",
      "Index: 4974 entries, 0 to 60\n",
      "Data columns (total 13 columns):\n",
      " #   Column             Non-Null Count  Dtype  \n",
      "---  ------             --------------  -----  \n",
      " 0   Bus_Name           4974 non-null   object \n",
      " 1   Bus_Type           4974 non-null   object \n",
      " 2   Start_From         4974 non-null   object \n",
      " 3   Destination        4974 non-null   object \n",
      " 4   Price              4974 non-null   float64\n",
      " 5   Starting_Point     4974 non-null   object \n",
      " 6   Ending_Point       4974 non-null   object \n",
      " 7   Seat_Available     4974 non-null   object \n",
      " 8   Start_Time         4974 non-null   object \n",
      " 9   Reach_Time         4974 non-null   object \n",
      " 10  Total_Travel_Time  4974 non-null   object \n",
      " 11  Bus_Rating         4922 non-null   float64\n",
      " 12  Links              4974 non-null   object \n",
      "dtypes: float64(2), object(11)\n",
      "memory usage: 673.1+ KB\n"
     ]
    }
   ],
   "source": [
    "df.info()"
   ]
  },
  {
   "cell_type": "code",
   "execution_count": 26,
   "metadata": {},
   "outputs": [],
   "source": [
    "df['Total_Travel_Time'] = df['Total_Travel_Time'].str.replace('h ', ':').str.replace('m', '')"
   ]
  },
  {
   "cell_type": "code",
   "execution_count": 27,
   "metadata": {},
   "outputs": [
    {
     "data": {
      "text/plain": [
       "array(['06:00', '07:42', '07:50', '04:35', '07:41', '06:40', '07:40',\n",
       "       '05:05', '06:08', '08:07', '06:25', '06:20', '05:42', '07:05',\n",
       "       '07:15', '06:35', '07:00', '05:40', '05:55', '05:35', '05:31',\n",
       "       '07:47', '06:30', '07:20', '06:10', '05:20', '04:46', '06:15',\n",
       "       '05:52', '06:45', '05:00', '06:05', '06:14', '05:30', '05:59',\n",
       "       '05:25', '04:45', '04:50', '04:25', '05:45', '04:40', '04:30',\n",
       "       '04:55', '07:25', '06:55', '06:54', '07:02', '07:35', '06:50',\n",
       "       '06:03', '07:32', '06:31', '05:23', '04:53', '06:46', '07:30',\n",
       "       '08:00', '07:45', '07:10', '07:55', '08:05', '06:04', '05:15',\n",
       "       '07:09', '08:15', '07:12', '08:26', '08:20', '08:10', '08:40',\n",
       "       '03:00', '03:30', '03:05', '04:00', '03:40', '04:59', '04:10',\n",
       "       '04:15', '03:45', '04:05', '03:25', '05:16', '05:10', '05:56',\n",
       "       '05:50', '05:41', '06:01', '05:46', '07:01', '03:50', '03:52',\n",
       "       '04:21', '03:35', '03:20', '03:15', '01:30', '0-18:0-59', '05:36',\n",
       "       '05:14', '06:19', '09:50', '09:15', '08:45', '08:30', '09:00',\n",
       "       '09:35', '09:10', '08:24', '08:25', '08:35', '08:55', '06:29',\n",
       "       '10:06', '10:01', '08:36', '09:06', '07:27', '06:34', '06:28',\n",
       "       '06:33', '06:42', '06:36', '07:38', '07:03', '08:50', '06:44',\n",
       "       '06:56', '08:31', '04:20', '06:27', '07:31', '03:34', '04:03',\n",
       "       '03:55', '02:50', '04:57', '03:31', '05:01', '04:51', '0-8:0-5',\n",
       "       '06:21', '06:06', '07:51', '07:46', '09:45', '11:30', '10:15',\n",
       "       '09:05', '09:30', '10:30', '09:25', '09:20', '09:18', '10:00',\n",
       "       '08:48', '05:47', '05:09', '05:48', '05:29', '05:51', '07:52',\n",
       "       '07:56', '05:43', '08:06', '08:08', '08:44', '03:19', '02:59',\n",
       "       '02:45', '02:35', '03:10', '02:55', '03:09', '02:30', '02:29',\n",
       "       '01:35', '00:49', '03:43', '06:07', '01:50', '0-1:0-15', '02:00',\n",
       "       '04:17', '04:09', '03:57', '05:03', '06:26', '04:41', '04:01',\n",
       "       '06:11', '02:15', '03:16', '05:58', '16:45', '04:58', '07:21',\n",
       "       '05:26', '04:54', '05:27', '05:04', '05:33', '05:37', '05:18',\n",
       "       '03:01', '06:22', '10:45', '10:35', '10:05', '09:40', '10:10',\n",
       "       '09:01', '07:53', '11:10', '10:25', '07:08', '07:26', '07:28',\n",
       "       '07:37', '07:43', '06:43', '07:24', '07:16', '03:14', '27:30',\n",
       "       '08:04', '09:22', '06:17', '07:59', '07:14', '08:19', '04:44',\n",
       "       '04:28', '03:39', '03:29', '02:20', '05:11', '08:01', '08:16',\n",
       "       '02:10', '08:37', '06:48', '08:29', '09:09', '07:49', '06:13',\n",
       "       '06:52', '06:23', '08:13', '07:44', '06:41', '11:00', '05:32',\n",
       "       '03:02', '07:36', '09:32', '07:19', '06:16', '14:40', '14:16',\n",
       "       '09:19', '07:48', '12:00', '12:15', '18:00', '12:35', '11:15',\n",
       "       '11:19', '13:05', '13:15', '14:30', '19:45', '0-6:00', '15:00',\n",
       "       '03:44', '03:47', '13:30', '14:35', '13:55', '12:30', '15:43',\n",
       "       '15:45', '13:00', '10:16', '10:59', '09:47', '10:20', '09:28',\n",
       "       '07:54', '09:17', '08:57', '10:50', '07:13', '06:59', '08:39',\n",
       "       '30:40', '06:32', '14:20', '14:10', '13:58', '12:57', '11:16',\n",
       "       '12:58', '13:25', '12:20', '14:00', '11:05', '11:35', '11:20',\n",
       "       '13:45', '11:50', '12:45', '13:10', '11:36', '09:48', '13:36',\n",
       "       '16:15', '11:40', '12:05', '11:53', '10:55', '10:40', '11:25',\n",
       "       '14:02', '13:29', '11:55', '12:25', '11:44', '11:58', '12:40',\n",
       "       '10:53', '09:55', '10:34', '11:01', '04:29', '05:12', '13:20',\n",
       "       '13:35', '12:51', '08:59', '14:15', '12:10', '10:24', '11:31',\n",
       "       '12:36', '09:52', '09:44', '07:17', '07:06', '12:33', '03:49',\n",
       "       '05:39', '06:09', '11:39', '09:34', '10:21', '11:08', '11:17',\n",
       "       '11:47', '11:45', '10:12', '13:50', '01:40', '01:25', '00:40',\n",
       "       '02:25', '01:45', '09:24', '04:39', '05:54', '03:54', '09:14',\n",
       "       '05:21', '05:24', '0-19:0-45', '04:31', '03:41', '08:58', '07:34',\n",
       "       '02:28', '03:24', '02:40', '02:16', '02:26', '03:32', '03:46',\n",
       "       '09:03', '09:27', '10:11', '06:49', '07:18', '06:24', '03:36',\n",
       "       '03:53', '0-21:0-15', '01:10', '01:54', '02:04', '01:55', '01:34',\n",
       "       '02:19', '01:29', '01:59', '03:59', '07:23', '09:31', '05:13',\n",
       "       '05:02', '04:34', '00:15', '12:50', '09:16', '05:44', '08:14',\n",
       "       '08:23', '07:57', '07:22', '08:46', '10:44', '15:20', '0-12:0-30'],\n",
       "      dtype=object)"
      ]
     },
     "execution_count": 27,
     "metadata": {},
     "output_type": "execute_result"
    }
   ],
   "source": [
    "df['Total_Travel_Time'].unique()"
   ]
  },
  {
   "cell_type": "code",
   "execution_count": 28,
   "metadata": {},
   "outputs": [
    {
     "data": {
      "text/plain": [
       "array(['DOLPHIN CRUISE (VOLVO / SCANIA A.C Multi Axle)',\n",
       "       'SUPER LUXURY (NON-AC, 2 + 2 PUSH BACK)', 'VENNELA (A.C. SLEEPER)',\n",
       "       'INDRA(A.C. Seater)', 'AMARAVATHI (VOLVO / SCANIA A.C Multi Axle)',\n",
       "       'STAR LINER(NON-AC SLEEPER 2+1)',\n",
       "       'NIGHT RIDER (SEATER CUM SLEEPER)', 'RAJDHANI (A.C. Semi Sleeper)',\n",
       "       'GARUDA PLUS (VOLVO / BENZ A.C Multi Axle)',\n",
       "       'RAJADHANI AC (CONVERTED METRO LUXURY)', 'eGARUDA',\n",
       "       'Lahari Non A/C Sleeper Cum Seater', 'A/C Seater / Sleeper (2+1)',\n",
       "       'Electric A/C Seater (2+2)',\n",
       "       'Scania Multi-Axle AC Semi Sleeper (2+2)', 'A/C Sleeper (2+1)',\n",
       "       'AC Sleeper (2+1)', 'Scania AC Multi Axle Sleeper (2+1)',\n",
       "       'Non A/C Seater / Sleeper (2+1)', 'VE A/C Seater / Sleeper (2+1)',\n",
       "       'Lahari A/C sleeper', 'Bharat Benz A/C Seater /Sleeper (2+1)',\n",
       "       'NON A/C Sleeper (2+1)', 'VE A/C Sleeper (2+1)',\n",
       "       'Volvo 9600 Multi-Axle A/C Sleeper (2+1)',\n",
       "       'ULTRA DELUXE (NON-AC, 2+2 PUSH BACK)', 'METRO LUXURY A/C',\n",
       "       'Express(Non AC Seater)', 'NON A/C Seater/ Sleeper (2+1)',\n",
       "       'NON A/C Semi Sleeper / Sleeper (2+1)', 'A/C Seater/Sleeper (2+1)',\n",
       "       'NON A/C Seater (2+3)',\n",
       "       'Volvo A/C B11R Multi Axle Semi Sleeper (2+2)',\n",
       "       'Volvo Multi-Axle I-Shift A/C Semi Sleeper (2+2)',\n",
       "       'Volvo Multi Axle A/C Sleeper I-Shift B11R (2+1)',\n",
       "       'Volvo Multi-Axle Sleeper A/C (2+1)',\n",
       "       'Bharat Benz A/C Sleeper (2+1)', 'SAPTAGIRI EXPRESS',\n",
       "       'A/C Volvo B11R Multi-Axle Sleeper (2+1)',\n",
       "       'VE Executive A/C Sleeper (1+1)',\n",
       "       'A/C Semi Sleeper / Sleeper (2+1)',\n",
       "       'Volvo Multi-Axle A/C Sleeper (2+1)',\n",
       "       'NON AC Seater / Sleeper 2+1', 'Electric A/C Seater/Sleeper (2+1)',\n",
       "       'NON A/C Seater Push Back (2+2)',\n",
       "       'Volvo Multi Axle B9R A/C Sleeper (2+1)',\n",
       "       'Mercedes Benz Multi-Axle A/C Sleeper (2+1)',\n",
       "       'Non AC Seater (2+3)', 'Volvo 9600 A/C Seater/Sleeper (2+1)',\n",
       "       'NON A/C Executive (2+1)', 'Volvo A/C Semi Sleeper (2+2)',\n",
       "       'NON A/C Seater (2+2)', 'NON A/C Seater PushBack (2+2)',\n",
       "       'NON A/C Hi-Tech (2+2)', 'NON A/C Push Back (2+2)',\n",
       "       'Volvo Multi Axle Sleeper B11R (2+1)', 'Volvo A/C Sleeper (2+1)',\n",
       "       'Volvo Multi-Axle I-Shift A/C Sleeper (2+1)',\n",
       "       'NON A/C Seater Semi Sleeper (2+1)',\n",
       "       'NON AC Seater/ Sleeper (2+1)', 'Non AC Seater (2+1)',\n",
       "       'Non AC Seater (2+2)', 'NON A/C Seater (2+1)',\n",
       "       'NON A/C Seater Push Back (2+1)', 'A/C Seater (2+2)',\n",
       "       'A/C Seater (2+1)', 'A/C Seater / Sleeper (2+2)',\n",
       "       'AC Seater (2+2)', 'Benz A/C Sleeper (2+1)',\n",
       "       'A/C Seater Hi-Tech Push Back (2+2)', 'Volvo AC Seater 2+2',\n",
       "       'A/C Seater / Sleeper (3+1)', 'A/C Seater Push Back (2+2)',\n",
       "       'Tata A/C Seater (2+2)', 'A/C Executive (2+3)',\n",
       "       'Ordinary 3+2 Non AC Seater', 'Himsuta AC Seater Volvo/Scania 2+2',\n",
       "       'Volvo A/C Semi Sleeper (2+2 )',\n",
       "       'Mercedes Multi-Axle Semi Sleeper (2+2)',\n",
       "       'Volvo Multi-Axle I-Shift B11R Semi Sleeper (2+2)',\n",
       "       'Bharat Benz A/C Semi Sleeper (2+2)',\n",
       "       'Super Luxury Volvo AC Seater Pushback 2+2',\n",
       "       'Volvo 9600 A/C Semi Sleeper (2+2)', 'A/C Semi Sleeper (2+2)',\n",
       "       'Volvo 9600 Multi Axle Semi-Sleeper (2+2)',\n",
       "       'Volvo AC Seater (2+2)', 'Scania A/C Semi Sleeper (2+2)',\n",
       "       'VE A/C Semi Sleeper (2+2)', 'VE A/C Seater (2+2)',\n",
       "       'Himmani Deluxe 2+2 Non AC Seater', 'HVAC Seater (2+3)',\n",
       "       'Volvo Multi-Axle A/C Semi Sleeper (2+2)',\n",
       "       'Volvo Multi-Axle A/C Semisleeper (2+2)',\n",
       "       'NON A/C Semi Sleeper (2+2)', 'NON A/C Seater / Sleeper (2+2)',\n",
       "       'NON A/C Sleeper (2+2)', 'Bharat Benz A/C Seater (2+2)',\n",
       "       'Swift Deluxe Non AC Air Bus (2+2)',\n",
       "       'Super Fast Non AC Seater (2+3)',\n",
       "       'Super Express Non AC Seater Air Bus (2+2)',\n",
       "       'SWIFT-GARUDA A/C SEATER BUS', 'Low Floor AC Seater 2+2',\n",
       "       'Volvo Multi-Axle B9R A/c Semi Sleeper (2+2)',\n",
       "       '2+1 Air Suspension A/C Seater / Sleeper', 'NON AC Mini Bus (2+2)',\n",
       "       'NON A/C Seater / Sleeper (3+1)', 'AC MULTI AXLE',\n",
       "       'Super Deluxe Non AC Seater Air Bus (2+2)', 'Garuda Premium',\n",
       "       'AC Seater Hvac 2+2', 'Express Non AC Seater 2+3',\n",
       "       'Volvo Multi Axle B11R AC Seater\\\\Sleeper (2+1)',\n",
       "       'Mercedes Benz A/C Sleeper (2+1)', 'Volvo A/C Seater (2+2)',\n",
       "       'AC Seater (2+3)', 'A/C Seater (2+3)',\n",
       "       'A/C Seater Push Back (2+3)', 'Volvo 9600 A/C Seater (2+2)',\n",
       "       'Volvo Multi-Axle A/C Seater/Sleeper (2+1)',\n",
       "       'Volvo Multi-Axle A/C seater/sleeper (2+1)',\n",
       "       'NON A/C Seater Pushback (2+3)', 'LAHARI A/C SLEEPER CUM SEATER',\n",
       "       'NON A/C Hi-Tech Push Back (2+2)',\n",
       "       'Rajdhani (AC Semi Sleeper 2+2)', 'NON A/C Airbus (2+2)',\n",
       "       'Deluxe (Non AC Seater 2+2)'], dtype=object)"
      ]
     },
     "execution_count": 28,
     "metadata": {},
     "output_type": "execute_result"
    }
   ],
   "source": [
    "df['Bus_Type'].unique()"
   ]
  },
  {
   "cell_type": "code",
   "execution_count": 29,
   "metadata": {},
   "outputs": [],
   "source": [
    "# or, if you want to remove rows with NaN values\n",
    "df.dropna(inplace=True)\n",
    "\n",
    "# now you can insert the cleaned data into the database"
   ]
  },
  {
   "cell_type": "code",
   "execution_count": 30,
   "metadata": {},
   "outputs": [
    {
     "data": {
      "text/html": [
       "<div>\n",
       "<style scoped>\n",
       "    .dataframe tbody tr th:only-of-type {\n",
       "        vertical-align: middle;\n",
       "    }\n",
       "\n",
       "    .dataframe tbody tr th {\n",
       "        vertical-align: top;\n",
       "    }\n",
       "\n",
       "    .dataframe thead th {\n",
       "        text-align: right;\n",
       "    }\n",
       "</style>\n",
       "<table border=\"1\" class=\"dataframe\">\n",
       "  <thead>\n",
       "    <tr style=\"text-align: right;\">\n",
       "      <th></th>\n",
       "      <th>Bus_Name</th>\n",
       "      <th>Bus_Type</th>\n",
       "      <th>Start_From</th>\n",
       "      <th>Destination</th>\n",
       "      <th>Price</th>\n",
       "      <th>Starting_Point</th>\n",
       "      <th>Ending_Point</th>\n",
       "      <th>Seat_Available</th>\n",
       "      <th>Start_Time</th>\n",
       "      <th>Reach_Time</th>\n",
       "      <th>Total_Travel_Time</th>\n",
       "      <th>Bus_Rating</th>\n",
       "      <th>Links</th>\n",
       "    </tr>\n",
       "  </thead>\n",
       "  <tbody>\n",
       "    <tr>\n",
       "      <th>0</th>\n",
       "      <td>APSRTC - 35085</td>\n",
       "      <td>DOLPHIN CRUISE (VOLVO / SCANIA A.C Multi Axle)</td>\n",
       "      <td>Vijayawada</td>\n",
       "      <td>Hyderabad</td>\n",
       "      <td>720.0</td>\n",
       "      <td>Rtc bus stand</td>\n",
       "      <td>Kukatpally</td>\n",
       "      <td>40 Seats available</td>\n",
       "      <td>18:30</td>\n",
       "      <td>00:30</td>\n",
       "      <td>06:00</td>\n",
       "      <td>3.8</td>\n",
       "      <td>https://www.redbus.in/bus-tickets/vijayawada-t...</td>\n",
       "    </tr>\n",
       "    <tr>\n",
       "      <th>1</th>\n",
       "      <td>APSRTC - 3613</td>\n",
       "      <td>SUPER LUXURY (NON-AC, 2 + 2 PUSH BACK)</td>\n",
       "      <td>Vijayawada</td>\n",
       "      <td>Hyderabad</td>\n",
       "      <td>469.0</td>\n",
       "      <td>Auto Nagar</td>\n",
       "      <td>Kukatpally</td>\n",
       "      <td>30 Seats available</td>\n",
       "      <td>19:00</td>\n",
       "      <td>02:42</td>\n",
       "      <td>07:42</td>\n",
       "      <td>3.3</td>\n",
       "      <td>https://www.redbus.in/bus-tickets/vijayawada-t...</td>\n",
       "    </tr>\n",
       "    <tr>\n",
       "      <th>2</th>\n",
       "      <td>APSRTC - 9316</td>\n",
       "      <td>SUPER LUXURY (NON-AC, 2 + 2 PUSH BACK)</td>\n",
       "      <td>Vijayawada</td>\n",
       "      <td>Hyderabad</td>\n",
       "      <td>469.0</td>\n",
       "      <td>Auto Nagar</td>\n",
       "      <td>Kukatpally</td>\n",
       "      <td>25 Seats available</td>\n",
       "      <td>20:20</td>\n",
       "      <td>04:10</td>\n",
       "      <td>07:50</td>\n",
       "      <td>4.2</td>\n",
       "      <td>https://www.redbus.in/bus-tickets/vijayawada-t...</td>\n",
       "    </tr>\n",
       "    <tr>\n",
       "      <th>3</th>\n",
       "      <td>APSRTC - 35189</td>\n",
       "      <td>DOLPHIN CRUISE (VOLVO / SCANIA A.C Multi Axle)</td>\n",
       "      <td>Vijayawada</td>\n",
       "      <td>Hyderabad</td>\n",
       "      <td>670.0</td>\n",
       "      <td>Rtc bus stand</td>\n",
       "      <td>Hayathnagar</td>\n",
       "      <td>35 Seats available</td>\n",
       "      <td>20:30</td>\n",
       "      <td>01:05</td>\n",
       "      <td>04:35</td>\n",
       "      <td>3.9</td>\n",
       "      <td>https://www.redbus.in/bus-tickets/vijayawada-t...</td>\n",
       "    </tr>\n",
       "    <tr>\n",
       "      <th>4</th>\n",
       "      <td>APSRTC - 9651</td>\n",
       "      <td>SUPER LUXURY (NON-AC, 2 + 2 PUSH BACK)</td>\n",
       "      <td>Vijayawada</td>\n",
       "      <td>Hyderabad</td>\n",
       "      <td>469.0</td>\n",
       "      <td>Auto Nagar</td>\n",
       "      <td>Kukatpally</td>\n",
       "      <td>24 Seats available</td>\n",
       "      <td>21:00</td>\n",
       "      <td>04:41</td>\n",
       "      <td>07:41</td>\n",
       "      <td>4.6</td>\n",
       "      <td>https://www.redbus.in/bus-tickets/vijayawada-t...</td>\n",
       "    </tr>\n",
       "    <tr>\n",
       "      <th>...</th>\n",
       "      <td>...</td>\n",
       "      <td>...</td>\n",
       "      <td>...</td>\n",
       "      <td>...</td>\n",
       "      <td>...</td>\n",
       "      <td>...</td>\n",
       "      <td>...</td>\n",
       "      <td>...</td>\n",
       "      <td>...</td>\n",
       "      <td>...</td>\n",
       "      <td>...</td>\n",
       "      <td>...</td>\n",
       "      <td>...</td>\n",
       "    </tr>\n",
       "    <tr>\n",
       "      <th>54</th>\n",
       "      <td>Lokenath Bus Service</td>\n",
       "      <td>Volvo 9600 Multi-Axle A/C Sleeper (2+1)</td>\n",
       "      <td>Kolkata</td>\n",
       "      <td>Siliguri</td>\n",
       "      <td>1500.0</td>\n",
       "      <td>Birati More</td>\n",
       "      <td>Siliguri Junction bus stand</td>\n",
       "      <td>19 Seats available</td>\n",
       "      <td>19:50</td>\n",
       "      <td>07:30</td>\n",
       "      <td>11:40</td>\n",
       "      <td>4.6</td>\n",
       "      <td>https://www.redbus.in/bus-tickets/kolkata-to-s...</td>\n",
       "    </tr>\n",
       "    <tr>\n",
       "      <th>55</th>\n",
       "      <td>Lokenath Bus Service</td>\n",
       "      <td>Volvo Multi-Axle A/C Seater/Sleeper (2+1)</td>\n",
       "      <td>Kolkata</td>\n",
       "      <td>Siliguri</td>\n",
       "      <td>1200.0</td>\n",
       "      <td>RANAGHAT</td>\n",
       "      <td>Siliguri Junction bus stand</td>\n",
       "      <td>19 Seats available</td>\n",
       "      <td>21:30</td>\n",
       "      <td>06:30</td>\n",
       "      <td>09:00</td>\n",
       "      <td>4.5</td>\n",
       "      <td>https://www.redbus.in/bus-tickets/kolkata-to-s...</td>\n",
       "    </tr>\n",
       "    <tr>\n",
       "      <th>58</th>\n",
       "      <td>Shyamoli Paribahan Pvt Ltd</td>\n",
       "      <td>Volvo A/C Seater (2+2)</td>\n",
       "      <td>Kolkata</td>\n",
       "      <td>Asansol (West Be...</td>\n",
       "      <td>524.0</td>\n",
       "      <td>Dankoni</td>\n",
       "      <td>Chelidanga</td>\n",
       "      <td>37 Seats available</td>\n",
       "      <td>19:40</td>\n",
       "      <td>23:25</td>\n",
       "      <td>04:05</td>\n",
       "      <td>4.2</td>\n",
       "      <td>https://www.redbus.in/bus-tickets/kolkata-to-a...</td>\n",
       "    </tr>\n",
       "    <tr>\n",
       "      <th>59</th>\n",
       "      <td>Royal Cruiser</td>\n",
       "      <td>Volvo A/C Seater (2+2)</td>\n",
       "      <td>Kolkata</td>\n",
       "      <td>Asansol (West Be...</td>\n",
       "      <td>523.0</td>\n",
       "      <td>Santragachi</td>\n",
       "      <td>Chelidanga</td>\n",
       "      <td>17 Seats available</td>\n",
       "      <td>19:45</td>\n",
       "      <td>00:15</td>\n",
       "      <td>04:30</td>\n",
       "      <td>3.7</td>\n",
       "      <td>https://www.redbus.in/bus-tickets/kolkata-to-a...</td>\n",
       "    </tr>\n",
       "    <tr>\n",
       "      <th>60</th>\n",
       "      <td>Beauty Travels</td>\n",
       "      <td>NON A/C Seater / Sleeper (2+2)</td>\n",
       "      <td>Kolkata</td>\n",
       "      <td>Asansol (West Be...</td>\n",
       "      <td>380.0</td>\n",
       "      <td>Babughat</td>\n",
       "      <td>Asansol</td>\n",
       "      <td>36 Seats available</td>\n",
       "      <td>20:20</td>\n",
       "      <td>00:30</td>\n",
       "      <td>04:10</td>\n",
       "      <td>3.0</td>\n",
       "      <td>https://www.redbus.in/bus-tickets/kolkata-to-a...</td>\n",
       "    </tr>\n",
       "  </tbody>\n",
       "</table>\n",
       "<p>4922 rows × 13 columns</p>\n",
       "</div>"
      ],
      "text/plain": [
       "                      Bus_Name  \\\n",
       "0               APSRTC - 35085   \n",
       "1                APSRTC - 3613   \n",
       "2                APSRTC - 9316   \n",
       "3               APSRTC - 35189   \n",
       "4                APSRTC - 9651   \n",
       "..                         ...   \n",
       "54        Lokenath Bus Service   \n",
       "55        Lokenath Bus Service   \n",
       "58  Shyamoli Paribahan Pvt Ltd   \n",
       "59               Royal Cruiser   \n",
       "60              Beauty Travels   \n",
       "\n",
       "                                          Bus_Type  Start_From  \\\n",
       "0   DOLPHIN CRUISE (VOLVO / SCANIA A.C Multi Axle)  Vijayawada   \n",
       "1           SUPER LUXURY (NON-AC, 2 + 2 PUSH BACK)  Vijayawada   \n",
       "2           SUPER LUXURY (NON-AC, 2 + 2 PUSH BACK)  Vijayawada   \n",
       "3   DOLPHIN CRUISE (VOLVO / SCANIA A.C Multi Axle)  Vijayawada   \n",
       "4           SUPER LUXURY (NON-AC, 2 + 2 PUSH BACK)  Vijayawada   \n",
       "..                                             ...         ...   \n",
       "54         Volvo 9600 Multi-Axle A/C Sleeper (2+1)     Kolkata   \n",
       "55       Volvo Multi-Axle A/C Seater/Sleeper (2+1)     Kolkata   \n",
       "58                          Volvo A/C Seater (2+2)     Kolkata   \n",
       "59                          Volvo A/C Seater (2+2)     Kolkata   \n",
       "60                  NON A/C Seater / Sleeper (2+2)     Kolkata   \n",
       "\n",
       "            Destination   Price Starting_Point                 Ending_Point  \\\n",
       "0             Hyderabad   720.0  Rtc bus stand                   Kukatpally   \n",
       "1             Hyderabad   469.0     Auto Nagar                   Kukatpally   \n",
       "2             Hyderabad   469.0     Auto Nagar                   Kukatpally   \n",
       "3             Hyderabad   670.0  Rtc bus stand                  Hayathnagar   \n",
       "4             Hyderabad   469.0     Auto Nagar                   Kukatpally   \n",
       "..                  ...     ...            ...                          ...   \n",
       "54             Siliguri  1500.0    Birati More  Siliguri Junction bus stand   \n",
       "55             Siliguri  1200.0       RANAGHAT  Siliguri Junction bus stand   \n",
       "58  Asansol (West Be...   524.0        Dankoni                   Chelidanga   \n",
       "59  Asansol (West Be...   523.0    Santragachi                   Chelidanga   \n",
       "60  Asansol (West Be...   380.0       Babughat                      Asansol   \n",
       "\n",
       "        Seat_Available Start_Time Reach_Time Total_Travel_Time  Bus_Rating  \\\n",
       "0   40 Seats available      18:30      00:30             06:00         3.8   \n",
       "1   30 Seats available      19:00      02:42             07:42         3.3   \n",
       "2   25 Seats available      20:20      04:10             07:50         4.2   \n",
       "3   35 Seats available      20:30      01:05             04:35         3.9   \n",
       "4   24 Seats available      21:00      04:41             07:41         4.6   \n",
       "..                 ...        ...        ...               ...         ...   \n",
       "54  19 Seats available      19:50      07:30             11:40         4.6   \n",
       "55  19 Seats available      21:30      06:30             09:00         4.5   \n",
       "58  37 Seats available      19:40      23:25             04:05         4.2   \n",
       "59  17 Seats available      19:45      00:15             04:30         3.7   \n",
       "60  36 Seats available      20:20      00:30             04:10         3.0   \n",
       "\n",
       "                                                Links  \n",
       "0   https://www.redbus.in/bus-tickets/vijayawada-t...  \n",
       "1   https://www.redbus.in/bus-tickets/vijayawada-t...  \n",
       "2   https://www.redbus.in/bus-tickets/vijayawada-t...  \n",
       "3   https://www.redbus.in/bus-tickets/vijayawada-t...  \n",
       "4   https://www.redbus.in/bus-tickets/vijayawada-t...  \n",
       "..                                                ...  \n",
       "54  https://www.redbus.in/bus-tickets/kolkata-to-s...  \n",
       "55  https://www.redbus.in/bus-tickets/kolkata-to-s...  \n",
       "58  https://www.redbus.in/bus-tickets/kolkata-to-a...  \n",
       "59  https://www.redbus.in/bus-tickets/kolkata-to-a...  \n",
       "60  https://www.redbus.in/bus-tickets/kolkata-to-a...  \n",
       "\n",
       "[4922 rows x 13 columns]"
      ]
     },
     "execution_count": 30,
     "metadata": {},
     "output_type": "execute_result"
    }
   ],
   "source": [
    "df"
   ]
  },
  {
   "cell_type": "code",
   "execution_count": 31,
   "metadata": {},
   "outputs": [],
   "source": [
    "df.to_csv(\"Bus_Detail_Analysing.csv\",index=False)"
   ]
  },
  {
   "cell_type": "code",
   "execution_count": 32,
   "metadata": {},
   "outputs": [],
   "source": [
    "import pandas as pd\n",
    "\n",
    "# Assuming df is your DataFrame\n",
    "df['Start_Time'] = pd.to_datetime(df['Start_Time'], format='%H:%M')\n",
    "df['Reach_Time'] = pd.to_datetime(df['Reach_Time'], format='%H:%M')\n",
    "\n",
    "# Clean the Total_Travel_Time column\n",
    "df['Total_Travel_Time'] = pd.to_numeric(df['Total_Travel_Time'], errors='coerce')\n",
    "df.dropna(subset=['Total_Travel_Time'], inplace=True)\n",
    "\n",
    "# Convert the Total_Travel_Time column to timedelta format\n",
    "df['Total_Travel_Time'] = pd.to_timedelta(df['Total_Travel_Time'], unit='m')\n",
    "\n",
    "# Convert the time columns to time format\n",
    "df['Start_Time'] = df['Start_Time'].dt.time\n",
    "df['Reach_Time'] = df['Reach_Time'].dt.time"
   ]
  },
  {
   "cell_type": "code",
   "execution_count": 33,
   "metadata": {},
   "outputs": [],
   "source": [
    "import pandas as pd\n",
    "\n",
    "# Assuming df is your DataFrame\n",
    "df['Start_Time'] = pd.to_datetime(df['Start_Time'], format='%H:%M').dt.time\n",
    "df['Reach_Time'] = pd.to_datetime(df['Reach_Time'], format='%H:%M').dt.time"
   ]
  },
  {
   "cell_type": "code",
   "execution_count": 34,
   "metadata": {},
   "outputs": [
    {
     "name": "stdout",
     "output_type": "stream",
     "text": [
      "<class 'pandas.core.frame.DataFrame'>\n",
      "Index: 0 entries\n",
      "Data columns (total 13 columns):\n",
      " #   Column             Non-Null Count  Dtype          \n",
      "---  ------             --------------  -----          \n",
      " 0   Bus_Name           0 non-null      object         \n",
      " 1   Bus_Type           0 non-null      object         \n",
      " 2   Start_From         0 non-null      object         \n",
      " 3   Destination        0 non-null      object         \n",
      " 4   Price              0 non-null      float64        \n",
      " 5   Starting_Point     0 non-null      object         \n",
      " 6   Ending_Point       0 non-null      object         \n",
      " 7   Seat_Available     0 non-null      object         \n",
      " 8   Start_Time         0 non-null      object         \n",
      " 9   Reach_Time         0 non-null      object         \n",
      " 10  Total_Travel_Time  0 non-null      timedelta64[ns]\n",
      " 11  Bus_Rating         0 non-null      float64        \n",
      " 12  Links              0 non-null      object         \n",
      "dtypes: float64(2), object(10), timedelta64[ns](1)\n",
      "memory usage: 0.0+ bytes\n"
     ]
    }
   ],
   "source": [
    "df.info()"
   ]
  },
  {
   "cell_type": "code",
   "execution_count": 35,
   "metadata": {},
   "outputs": [],
   "source": [
    "import pandas as pd\n",
    "import mysql.connector\n",
    "\n",
    "# Establish a MySQL connection\n",
    "cnx = mysql.connector.connect(\n",
    "    host=\"localhost\",\n",
    "    port=3307,\n",
    "    user=\"root\",\n",
    "    password=\"abcd\",\n",
    "    database=\"Bus\"\n",
    ")\n",
    "\n",
    "# Create a cursor object\n",
    "cursor = cnx.cursor()"
   ]
  },
  {
   "cell_type": "code",
   "execution_count": 36,
   "metadata": {},
   "outputs": [],
   "source": [
    "import pandas as pd\n",
    "bus_data = pd.read_csv(\"Bus_Detail_Analysing.csv\")  # Replace \"bus_data.csv\" with your file"
   ]
  },
  {
   "cell_type": "code",
   "execution_count": 37,
   "metadata": {},
   "outputs": [],
   "source": [
    "import pandas as pd\n",
    "import mysql.connector\n",
    "\n",
    "# Read the CSV file\n",
    "df = pd.read_csv('Bus_Detail_Analysing.csv')\n",
    "\n",
    "# Establish a connection to your MySQL database\n",
    "cnx = mysql.connector.connect(\n",
    "    host=\"localhost\",\n",
    "    port=3307,\n",
    "    user=\"root\",\n",
    "    password=\"abcd\",\n",
    "    database=\"redbus\"\n",
    ")\n",
    "\n",
    "# Create a cursor object\n",
    "cursor = cnx.cursor()\n",
    "\n",
    "create_table_query = \"\"\"\n",
    "CREATE TABLE bus_detail (\n",
    "    Bus_Name VARCHAR(255),\n",
    "    Bus_Type VARCHAR(255),\n",
    "    DepartureCity VARCHAR(255),\n",
    "    Destination VARCHAR(255),\n",
    "    Price DECIMAL(10, 2),\n",
    "    Starting_Point VARCHAR(255),\n",
    "    Ending_Point VARCHAR(255),\n",
    "    Seat_Available VARCHAR(255),\n",
    "    Start_Time VARCHAR(255),\n",
    "    Reach_Time VARCHAR(255),\n",
    "    Total_Travel_Time VARCHAR(255),\n",
    "    Bus_Rating DECIMAL(10, 2),\n",
    "    Links VARCHAR(255)\n",
    ")\n",
    "\"\"\"\n",
    "cursor.execute(create_table_query)\n",
    "cnx.commit()\n",
    "\n",
    "\n",
    "# Insert the data into the MySQL table\n",
    "for index, row in df.iterrows():\n",
    "    insert_query = \"\"\"\n",
    "    INSERT INTO bus_detail (\n",
    "        Bus_Name, Bus_Type, DepartureCity, Destination, Price, Starting_Point, \n",
    "        Ending_Point, Seat_Available, Start_Time, Reach_Time, Total_Travel_Time, \n",
    "        Bus_Rating, Links\n",
    "    ) VALUES (%s, %s, %s, %s, %s, %s, %s, %s, %s, %s, %s, %s, %s)\n",
    "    \"\"\"\n",
    "    cursor.execute(insert_query, tuple(row))\n",
    "\n",
    "# Commit the changes\n",
    "cnx.commit()\n",
    "\n",
    "# Close the MySQL connection\n",
    "cursor.close()\n",
    "cnx.close()"
   ]
  },
  {
   "cell_type": "code",
   "execution_count": 38,
   "metadata": {},
   "outputs": [
    {
     "data": {
      "text/plain": [
       "np.float64(656.2785656237302)"
      ]
     },
     "execution_count": 38,
     "metadata": {},
     "output_type": "execute_result"
    }
   ],
   "source": [
    "df['Price'].mean()"
   ]
  },
  {
   "cell_type": "code",
   "execution_count": 39,
   "metadata": {},
   "outputs": [
    {
     "data": {
      "text/plain": [
       "68.0"
      ]
     },
     "execution_count": 39,
     "metadata": {},
     "output_type": "execute_result"
    }
   ],
   "source": [
    "min(df['Price'])"
   ]
  },
  {
   "cell_type": "code",
   "execution_count": 40,
   "metadata": {},
   "outputs": [
    {
     "ename": "KeyError",
     "evalue": "'Bus Rating'",
     "output_type": "error",
     "traceback": [
      "\u001b[1;31m---------------------------------------------------------------------------\u001b[0m",
      "\u001b[1;31mKeyError\u001b[0m                                  Traceback (most recent call last)",
      "File \u001b[1;32mc:\\Users\\BHUVANESHWARAN  D\\AppData\\Local\\Programs\\Python\\Python310\\lib\\site-packages\\pandas\\core\\indexes\\base.py:3805\u001b[0m, in \u001b[0;36mIndex.get_loc\u001b[1;34m(self, key)\u001b[0m\n\u001b[0;32m   3804\u001b[0m \u001b[38;5;28;01mtry\u001b[39;00m:\n\u001b[1;32m-> 3805\u001b[0m     \u001b[38;5;28;01mreturn\u001b[39;00m \u001b[38;5;28;43mself\u001b[39;49m\u001b[38;5;241;43m.\u001b[39;49m\u001b[43m_engine\u001b[49m\u001b[38;5;241;43m.\u001b[39;49m\u001b[43mget_loc\u001b[49m\u001b[43m(\u001b[49m\u001b[43mcasted_key\u001b[49m\u001b[43m)\u001b[49m\n\u001b[0;32m   3806\u001b[0m \u001b[38;5;28;01mexcept\u001b[39;00m \u001b[38;5;167;01mKeyError\u001b[39;00m \u001b[38;5;28;01mas\u001b[39;00m err:\n",
      "File \u001b[1;32mindex.pyx:167\u001b[0m, in \u001b[0;36mpandas._libs.index.IndexEngine.get_loc\u001b[1;34m()\u001b[0m\n",
      "File \u001b[1;32mindex.pyx:196\u001b[0m, in \u001b[0;36mpandas._libs.index.IndexEngine.get_loc\u001b[1;34m()\u001b[0m\n",
      "File \u001b[1;32mpandas\\\\_libs\\\\hashtable_class_helper.pxi:7081\u001b[0m, in \u001b[0;36mpandas._libs.hashtable.PyObjectHashTable.get_item\u001b[1;34m()\u001b[0m\n",
      "File \u001b[1;32mpandas\\\\_libs\\\\hashtable_class_helper.pxi:7089\u001b[0m, in \u001b[0;36mpandas._libs.hashtable.PyObjectHashTable.get_item\u001b[1;34m()\u001b[0m\n",
      "\u001b[1;31mKeyError\u001b[0m: 'Bus Rating'",
      "\nThe above exception was the direct cause of the following exception:\n",
      "\u001b[1;31mKeyError\u001b[0m                                  Traceback (most recent call last)",
      "Cell \u001b[1;32mIn[40], line 1\u001b[0m\n\u001b[1;32m----> 1\u001b[0m \u001b[38;5;28mmin\u001b[39m(\u001b[43mdf\u001b[49m\u001b[43m[\u001b[49m\u001b[38;5;124;43m'\u001b[39;49m\u001b[38;5;124;43mBus Rating\u001b[39;49m\u001b[38;5;124;43m'\u001b[39;49m\u001b[43m]\u001b[49m)\n",
      "File \u001b[1;32mc:\\Users\\BHUVANESHWARAN  D\\AppData\\Local\\Programs\\Python\\Python310\\lib\\site-packages\\pandas\\core\\frame.py:4102\u001b[0m, in \u001b[0;36mDataFrame.__getitem__\u001b[1;34m(self, key)\u001b[0m\n\u001b[0;32m   4100\u001b[0m \u001b[38;5;28;01mif\u001b[39;00m \u001b[38;5;28mself\u001b[39m\u001b[38;5;241m.\u001b[39mcolumns\u001b[38;5;241m.\u001b[39mnlevels \u001b[38;5;241m>\u001b[39m \u001b[38;5;241m1\u001b[39m:\n\u001b[0;32m   4101\u001b[0m     \u001b[38;5;28;01mreturn\u001b[39;00m \u001b[38;5;28mself\u001b[39m\u001b[38;5;241m.\u001b[39m_getitem_multilevel(key)\n\u001b[1;32m-> 4102\u001b[0m indexer \u001b[38;5;241m=\u001b[39m \u001b[38;5;28;43mself\u001b[39;49m\u001b[38;5;241;43m.\u001b[39;49m\u001b[43mcolumns\u001b[49m\u001b[38;5;241;43m.\u001b[39;49m\u001b[43mget_loc\u001b[49m\u001b[43m(\u001b[49m\u001b[43mkey\u001b[49m\u001b[43m)\u001b[49m\n\u001b[0;32m   4103\u001b[0m \u001b[38;5;28;01mif\u001b[39;00m is_integer(indexer):\n\u001b[0;32m   4104\u001b[0m     indexer \u001b[38;5;241m=\u001b[39m [indexer]\n",
      "File \u001b[1;32mc:\\Users\\BHUVANESHWARAN  D\\AppData\\Local\\Programs\\Python\\Python310\\lib\\site-packages\\pandas\\core\\indexes\\base.py:3812\u001b[0m, in \u001b[0;36mIndex.get_loc\u001b[1;34m(self, key)\u001b[0m\n\u001b[0;32m   3807\u001b[0m     \u001b[38;5;28;01mif\u001b[39;00m \u001b[38;5;28misinstance\u001b[39m(casted_key, \u001b[38;5;28mslice\u001b[39m) \u001b[38;5;129;01mor\u001b[39;00m (\n\u001b[0;32m   3808\u001b[0m         \u001b[38;5;28misinstance\u001b[39m(casted_key, abc\u001b[38;5;241m.\u001b[39mIterable)\n\u001b[0;32m   3809\u001b[0m         \u001b[38;5;129;01mand\u001b[39;00m \u001b[38;5;28many\u001b[39m(\u001b[38;5;28misinstance\u001b[39m(x, \u001b[38;5;28mslice\u001b[39m) \u001b[38;5;28;01mfor\u001b[39;00m x \u001b[38;5;129;01min\u001b[39;00m casted_key)\n\u001b[0;32m   3810\u001b[0m     ):\n\u001b[0;32m   3811\u001b[0m         \u001b[38;5;28;01mraise\u001b[39;00m InvalidIndexError(key)\n\u001b[1;32m-> 3812\u001b[0m     \u001b[38;5;28;01mraise\u001b[39;00m \u001b[38;5;167;01mKeyError\u001b[39;00m(key) \u001b[38;5;28;01mfrom\u001b[39;00m \u001b[38;5;21;01merr\u001b[39;00m\n\u001b[0;32m   3813\u001b[0m \u001b[38;5;28;01mexcept\u001b[39;00m \u001b[38;5;167;01mTypeError\u001b[39;00m:\n\u001b[0;32m   3814\u001b[0m     \u001b[38;5;66;03m# If we have a listlike key, _check_indexing_error will raise\u001b[39;00m\n\u001b[0;32m   3815\u001b[0m     \u001b[38;5;66;03m#  InvalidIndexError. Otherwise we fall through and re-raise\u001b[39;00m\n\u001b[0;32m   3816\u001b[0m     \u001b[38;5;66;03m#  the TypeError.\u001b[39;00m\n\u001b[0;32m   3817\u001b[0m     \u001b[38;5;28mself\u001b[39m\u001b[38;5;241m.\u001b[39m_check_indexing_error(key)\n",
      "\u001b[1;31mKeyError\u001b[0m: 'Bus Rating'"
     ]
    }
   ],
   "source": [
    "min(df['Bus Rating'])"
   ]
  },
  {
   "cell_type": "code",
   "execution_count": 82,
   "metadata": {},
   "outputs": [
    {
     "data": {
      "text/plain": [
       "5.0"
      ]
     },
     "execution_count": 82,
     "metadata": {},
     "output_type": "execute_result"
    }
   ],
   "source": [
    "max(df['Bus Rating'])"
   ]
  }
 ],
 "metadata": {
  "kernelspec": {
   "display_name": "Python 3",
   "language": "python",
   "name": "python3"
  },
  "language_info": {
   "codemirror_mode": {
    "name": "ipython",
    "version": 3
   },
   "file_extension": ".py",
   "mimetype": "text/x-python",
   "name": "python",
   "nbconvert_exporter": "python",
   "pygments_lexer": "ipython3",
   "version": "3.10.7"
  }
 },
 "nbformat": 4,
 "nbformat_minor": 2
}
